{
 "cells": [
  {
   "cell_type": "markdown",
   "id": "a27ac12c",
   "metadata": {},
   "source": [
    "# DECORATORS\n",
    "\n",
    "\n",
    "* O que são decorators?\n",
    "* Como aplicar decorators?\n",
    "* Decorator como classe\n",
    "* Flask"
   ]
  },
  {
   "cell_type": "markdown",
   "id": "486924c7",
   "metadata": {},
   "source": [
    "Em nível de função lambda, segue o exemplo:"
   ]
  },
  {
   "cell_type": "code",
   "execution_count": 7,
   "id": "d788223c",
   "metadata": {},
   "outputs": [
    {
     "name": "stdout",
     "output_type": "stream",
     "text": [
      "Cavalo!!\n"
     ]
    }
   ],
   "source": [
    "# Uma função que retorna outra função\n",
    "pegar_cep = lambda : print\n",
    "pegar_cep()(\"Cavalo!!\")  # O pegar_cep() é convertido para print"
   ]
  },
  {
   "cell_type": "markdown",
   "id": "f3420c62",
   "metadata": {},
   "source": [
    "### CRIANDO FUNÇÕES"
   ]
  },
  {
   "cell_type": "code",
   "execution_count": 8,
   "id": "f8314965",
   "metadata": {},
   "outputs": [],
   "source": [
    "def func():\n",
    "    pass"
   ]
  },
  {
   "cell_type": "markdown",
   "id": "7b1def0f",
   "metadata": {},
   "source": [
    "#### * Função que retorna valor"
   ]
  },
  {
   "cell_type": "code",
   "execution_count": 10,
   "id": "67ef6dd5",
   "metadata": {},
   "outputs": [
    {
     "data": {
      "text/plain": [
       "'Valor retornado'"
      ]
     },
     "execution_count": 10,
     "metadata": {},
     "output_type": "execute_result"
    }
   ],
   "source": [
    "def retorna_valor():\n",
    "    return \"Valor retornado\"\n",
    "\n",
    "retorna_valor()"
   ]
  },
  {
   "cell_type": "markdown",
   "id": "f48b9eec",
   "metadata": {},
   "source": [
    "#### * Função que recebe e retorna valores\n",
    "\n",
    "* Função com parâmetro(s): Função com variável"
   ]
  },
  {
   "cell_type": "code",
   "execution_count": 16,
   "id": "f7d6d837",
   "metadata": {},
   "outputs": [
    {
     "name": "stdout",
     "output_type": "stream",
     "text": [
      "Fatec Fatec Fatec Fatec \n",
      "8\n"
     ]
    }
   ],
   "source": [
    "def func2(parametro):  # Parâmetro -> variável\n",
    "    return parametro * 4\n",
    "\n",
    "\n",
    "print(func2(\"Fatec \"))  # Argumento -> valor literal\n",
    "print(func2(2))"
   ]
  },
  {
   "cell_type": "code",
   "execution_count": 17,
   "id": "10d34c13",
   "metadata": {},
   "outputs": [],
   "source": [
    "# Crie uma função que quando chamada e passo um valor\n",
    "# se inteiro, retorne o mesmo - 1 (menos um) 5 -> 4\n",
    "# se o valor passado for um float trukate  1.2 -> 1\n",
    "# se o valor passado for texto retorne :)"
   ]
  },
  {
   "cell_type": "code",
   "execution_count": 25,
   "id": "a1608954",
   "metadata": {},
   "outputs": [
    {
     "data": {
      "text/plain": [
       "':)'"
      ]
     },
     "execution_count": 25,
     "metadata": {},
     "output_type": "execute_result"
    }
   ],
   "source": [
    "def fatec(parametro):\n",
    "    if type(parametro) == int:\n",
    "        return parametro - 1\n",
    "    elif type(parametro) == float:\n",
    "        return int(parametro)  # round(parametro)\n",
    "    else:\n",
    "        return \":)\"\n",
    "\n",
    "    \n",
    "fatec(\"\")"
   ]
  },
  {
   "cell_type": "code",
   "execution_count": 26,
   "id": "6c50db01",
   "metadata": {},
   "outputs": [],
   "source": [
    "# Crie uma função que retorne 6 valores aleatórios"
   ]
  },
  {
   "cell_type": "code",
   "execution_count": 123,
   "id": "709d0b67",
   "metadata": {},
   "outputs": [
    {
     "data": {
      "text/plain": [
       "[6, 12, 29, 32, 56, 57]"
      ]
     },
     "execution_count": 123,
     "metadata": {},
     "output_type": "execute_result"
    }
   ],
   "source": [
    "import random\n",
    "def mega_sena():\n",
    "    digitos = []\n",
    "    for i in range(6):\n",
    "        digitos.append(random.randint(1, 60))\n",
    "    digitos.sort()\n",
    "    return digitos\n",
    "\n",
    "\n",
    "mega_sena()"
   ]
  },
  {
   "cell_type": "code",
   "execution_count": 50,
   "id": "ceb077a2",
   "metadata": {},
   "outputs": [
    {
     "data": {
      "text/plain": [
       "1"
      ]
     },
     "execution_count": 50,
     "metadata": {},
     "output_type": "execute_result"
    }
   ],
   "source": []
  }
 ],
 "metadata": {
  "kernelspec": {
   "display_name": "Python 3 (ipykernel)",
   "language": "python",
   "name": "python3"
  },
  "language_info": {
   "codemirror_mode": {
    "name": "ipython",
    "version": 3
   },
   "file_extension": ".py",
   "mimetype": "text/x-python",
   "name": "python",
   "nbconvert_exporter": "python",
   "pygments_lexer": "ipython3",
   "version": "3.9.7"
  }
 },
 "nbformat": 4,
 "nbformat_minor": 5
}
