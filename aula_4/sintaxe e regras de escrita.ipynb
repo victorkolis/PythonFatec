{
 "cells": [
  {
   "cell_type": "markdown",
   "id": "cfce99cd",
   "metadata": {},
   "source": [
    "# COISAS IMPORTANTES"
   ]
  },
  {
   "cell_type": "markdown",
   "id": "c86efa35",
   "metadata": {},
   "source": [
    "O código fonte deve ser rigorozamente seguido.\n",
    "\n",
    "e.g\n",
    "\n",
    "* 1 Respeite as indentações(espaços)\n",
    "NÃO FAÇA ISSO :))\n",
    "eu bola gosto bater mim portão\n",
    "\n",
    "int main(){\n",
    "\n",
    "    sdjhfksd;\n",
    "       sldjkfhsdf;\n",
    "\n",
    "}\n",
    "\n",
    "* 2 Não adicione espaços nas funções e nos objetos\n",
    "\n",
    "correto:\n",
    "\n",
    "print(1)\n",
    "\n",
    "errado:\n",
    "\n",
    "print (1)\n",
    "\n",
    "print( 1 )\n",
    "\n",
    "* 3 Contudo, adicione espaço entre variáveis e valores, e entre valores e valores\n",
    "\n",
    "correto:\n",
    "\n",
    "variavel = 4\n",
    "\n",
    "3 + 3\n",
    "\n",
    "errado:\n",
    "\n",
    "variavel=4\n",
    "\n",
    "3+3"
   ]
  },
  {
   "cell_type": "markdown",
   "id": "e2d78427",
   "metadata": {},
   "source": [
    "# DRY"
   ]
  },
  {
   "cell_type": "code",
   "execution_count": 2,
   "id": "6e91a83c",
   "metadata": {},
   "outputs": [
    {
     "name": "stdout",
     "output_type": "stream",
     "text": [
      "Olá estranho, seja bem-vindo\n",
      "Selecione as opções abaixo:\n",
      "[1] - Café\n",
      "[2] - Cappucino\n",
      "[3] - Macchiato\n",
      "[4] - Espresso\n",
      "[5] - Chá\n",
      ">>> 5\n"
     ]
    }
   ],
   "source": [
    "# Do not repeat yourself (Evite repetições)\n",
    "\n",
    "print(\"Olá estranho, seja bem-vindo\")\n",
    "print(\"Selecione as opções abaixo:\")\n",
    "print(\"[1] - Café\")\n",
    "print(\"[2] - Cappucino\")\n",
    "print(\"[3] - Macchiato\")\n",
    "print(\"[4] - Espresso\")\n",
    "print(\"[5] - Chá\")\n",
    "opcao = input(\">>> \")\n"
   ]
  },
  {
   "cell_type": "code",
   "execution_count": 3,
   "id": "b5e35765",
   "metadata": {},
   "outputs": [
    {
     "name": "stdout",
     "output_type": "stream",
     "text": [
      "5\n"
     ]
    }
   ],
   "source": [
    "print(opcao)"
   ]
  },
  {
   "cell_type": "markdown",
   "id": "49d5d568",
   "metadata": {},
   "source": [
    "# LAÇO DE REPETIÇÃO"
   ]
  },
  {
   "cell_type": "code",
   "execution_count": 4,
   "id": "87913ddb",
   "metadata": {},
   "outputs": [
    {
     "name": "stdout",
     "output_type": "stream",
     "text": [
      "=^^=\n",
      "=^^=\n",
      "=^^=\n",
      "=^^=\n",
      "=^^=\n",
      "=^^=\n",
      "=^^=\n",
      "=^^=\n",
      "=^^=\n",
      "=^^=\n"
     ]
    }
   ],
   "source": [
    "# Jeito cavalo\n",
    "print(\"=^^=\")\n",
    "print(\"=^^=\")\n",
    "print(\"=^^=\")\n",
    "print(\"=^^=\")\n",
    "print(\"=^^=\")\n",
    "print(\"=^^=\")\n",
    "print(\"=^^=\")\n",
    "print(\"=^^=\")\n",
    "print(\"=^^=\")\n",
    "print(\"=^^=\")"
   ]
  },
  {
   "cell_type": "markdown",
   "id": "c59f0b7f",
   "metadata": {},
   "source": [
    "# ESTRUTURA DE REPETIÇÃO FOR\n",
    "\n",
    "**for** *variavel* **in** *ITERÁVEL*"
   ]
  },
  {
   "cell_type": "markdown",
   "id": "8a526905",
   "metadata": {},
   "source": [
    "O **for** traduzido para português fica:\n",
    "\n",
    "\"**Para cada elemento** (for) **dentro do** *ITERÁVEL* salve temporariamente o valor contido no *ITERÁVEL* na variável 'variavel'\"\n",
    "\n",
    "\"Execute o código abaixo o mesmo tanto de vezes que o tamanho do *ITERÁVEL*\""
   ]
  },
  {
   "cell_type": "code",
   "execution_count": 5,
   "id": "fd345403",
   "metadata": {},
   "outputs": [],
   "source": [
    "# iteráveis\n",
    "\n",
    "listas = [1, \"texto\", []]  # listas aceitam quaisquer objetos que o python suporta\n",
    "textos = \"O rato roeu a roupa do rei de roma\"\n",
    "tuplas = (1, \"texto\", [])  # tuplas aceitam quaisquer objetos que o python suporta\n",
    "dicionario_de_uma_linha = {\"chave\": \"valor\", \"dog\": \"cachorro\"}\n",
    "dicionario_de_varias_linhas = {\n",
    "    \"chave\": \"valor\", \n",
    "    \"dog\": \"cachorro\"\n",
    "}\n",
    "alcance_escopo = range(10)\n"
   ]
  },
  {
   "cell_type": "markdown",
   "id": "78d53844",
   "metadata": {},
   "source": [
    "# TRABALHANDO OS DADOS\n",
    "\n",
    "* listas\n",
    "* texto (string)\n",
    "* tuplas\n",
    "* dicionário\n",
    "* range\n"
   ]
  },
  {
   "cell_type": "code",
   "execution_count": 7,
   "id": "132eeb8b",
   "metadata": {},
   "outputs": [
    {
     "name": "stdout",
     "output_type": "stream",
     "text": [
      "=^^=\n",
      "=^^=\n",
      "=^^=\n",
      "=^^=\n",
      "=^^=\n",
      "=^^=\n",
      "=^^=\n",
      "=^^=\n",
      "=^^=\n",
      "=^^=\n"
     ]
    }
   ],
   "source": [
    "for VARIAVEL in range(10):\n",
    "    print(\"=^^=\")"
   ]
  },
  {
   "cell_type": "code",
   "execution_count": 13,
   "id": "210b3085",
   "metadata": {},
   "outputs": [
    {
     "name": "stdout",
     "output_type": "stream",
     "text": [
      "azeitona\n",
      "chocolate\n",
      "papel higiênico\n",
      "pasta de dentes\n",
      "salgadinho\n",
      "carne moida\n"
     ]
    }
   ],
   "source": [
    "# Trabalhando com listas\n",
    "\n",
    "tamanho_minimo = 8\n",
    "compras = [\"arroz\", \"picanha\", \"azeitona\", \"chocolate\", \"feijão\", \"batata\", \"sushi\", \"papel higiênico\", \"pasta de dentes\", \"vinho\", \"salgadinho\", \"carne moida\", \"leite\"]\n",
    "for item in compras:\n",
    "    if len(item) < tamanho_minimo:\n",
    "        pass\n",
    "    else:\n",
    "        print(item)\n"
   ]
  },
  {
   "cell_type": "code",
   "execution_count": 25,
   "id": "2704b980",
   "metadata": {},
   "outputs": [
    {
     "name": "stdout",
     "output_type": "stream",
     "text": [
      "Digite um número: 11\n",
      "IMPAR\n"
     ]
    }
   ],
   "source": [
    "# DESAFIO 1: Par, Impar\n",
    "\n",
    "# range(0, 51)\n",
    "# 0, par\n",
    "# 1, impar\n",
    "# 19 % 2\n",
    "\n",
    "# FINS DIDÁTICOS\n",
    "# numero_do_user = int(input(\"Digite um número: \"))\n",
    "# if numero_do_user % 2 == 0:\n",
    "#     print(\"PAR\")\n",
    "# else:\n",
    "#     print(\"IMPAR\")\n",
    "\n",
    "\n",
    "\n",
    "for numero in range(0, 51):\n",
    "    if numero % 2 == 0:\n",
    "        print(numero, \"Par\")\n",
    "    else:\n",
    "        print(numero, \"Impar\")\n"
   ]
  },
  {
   "cell_type": "markdown",
   "id": "00468dcc",
   "metadata": {},
   "source": [
    "# CRIANDO UM MENU"
   ]
  },
  {
   "cell_type": "code",
   "execution_count": 28,
   "id": "59abf5d3",
   "metadata": {},
   "outputs": [
    {
     "name": "stdout",
     "output_type": "stream",
     "text": [
      "[1] - chá\n",
      "[2] - chocolate quente\n",
      "[3] - espresso\n",
      "[4] - capuccino\n",
      "[5] - pingado\n"
     ]
    }
   ],
   "source": [
    "# MENU de um restaurante\n",
    "opcoes = [\"chá\", \"chocolate quente\", \"espresso\", \"capuccino\", \"pingado\"]\n",
    "\n",
    "for posicao, opcao in enumerate(opcoes):    \n",
    "    print(f\"[{posicao + 1}] - {opcao}\")\n",
    "\n",
    "pedido = input(\"Selecione uma das opções acima: \")\n"
   ]
  },
  {
   "cell_type": "code",
   "execution_count": 36,
   "id": "c7b8d12b",
   "metadata": {},
   "outputs": [
    {
     "data": {
      "text/plain": [
       "['café,chá,pingado', '5,10,7', '']"
      ]
     },
     "execution_count": 36,
     "metadata": {},
     "output_type": "execute_result"
    }
   ],
   "source": [
    "\"\"\"café,chá,pingado\n",
    "5,10,7\n",
    "\"\"\".split(\"\\n\")\n"
   ]
  }
 ],
 "metadata": {
  "kernelspec": {
   "display_name": "Python 3 (ipykernel)",
   "language": "python",
   "name": "python3"
  },
  "language_info": {
   "codemirror_mode": {
    "name": "ipython",
    "version": 3
   },
   "file_extension": ".py",
   "mimetype": "text/x-python",
   "name": "python",
   "nbconvert_exporter": "python",
   "pygments_lexer": "ipython3",
   "version": "3.9.7"
  }
 },
 "nbformat": 4,
 "nbformat_minor": 5
}
