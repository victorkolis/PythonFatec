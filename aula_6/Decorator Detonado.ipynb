{
 "cells": [
  {
   "cell_type": "markdown",
   "id": "bf657bb6",
   "metadata": {},
   "source": [
    "# DECORATORS\n",
    "\n",
    "\n",
    "### Decoradores de função, modificadores de comportamento"
   ]
  },
  {
   "cell_type": "code",
   "execution_count": 4,
   "id": "64a0632e",
   "metadata": {},
   "outputs": [
    {
     "name": "stdout",
     "output_type": "stream",
     "text": [
      "dados\n"
     ]
    }
   ],
   "source": [
    "# Em termos de um lambda\n",
    "\n",
    "uma_funcao = lambda : print\n",
    "uma_funcao()(\"dados\")  # print(\"dados\")"
   ]
  },
  {
   "cell_type": "code",
   "execution_count": 12,
   "id": "6c719a49",
   "metadata": {},
   "outputs": [
    {
     "data": {
      "text/plain": [
       "<function __main__.funcao_externa.<locals>.funcao_interna()>"
      ]
     },
     "execution_count": 12,
     "metadata": {},
     "output_type": "execute_result"
    }
   ],
   "source": [
    "# Em termos de uma função simples\n",
    "\n",
    "def funcao_externa(func):\n",
    "    def funcao_interna():\n",
    "        # coisas antes\n",
    "        func()\n",
    "        # coisas depois\n",
    "    return funcao_interna\n",
    "\n",
    "funcao_externa(print)"
   ]
  },
  {
   "cell_type": "code",
   "execution_count": 16,
   "id": "bdc3fba0",
   "metadata": {},
   "outputs": [],
   "source": [
    "# Em termos de decorator com a nomenclatura correta\n",
    "import functools\n",
    "from functools import cache\n",
    "\n",
    "@functools.cache\n",
    "@cache\n",
    "def fibonacci():\n",
    "    pass\n",
    "\n",
    "fibonacci()"
   ]
  },
  {
   "cell_type": "markdown",
   "id": "9cd10f8d",
   "metadata": {},
   "source": [
    "## Criando nosso decorator"
   ]
  },
  {
   "cell_type": "markdown",
   "id": "5d56e537",
   "metadata": {},
   "source": [
    "### Criando uma função"
   ]
  },
  {
   "cell_type": "code",
   "execution_count": 23,
   "id": "77f8fd6a",
   "metadata": {},
   "outputs": [
    {
     "ename": "TypeError",
     "evalue": "unsupported operand type(s) for +: 'int' and 'str'",
     "output_type": "error",
     "traceback": [
      "\u001b[1;31m---------------------------------------------------------------------------\u001b[0m",
      "\u001b[1;31mTypeError\u001b[0m                                 Traceback (most recent call last)",
      "\u001b[1;32mC:\\Users\\FATECS~1\\AppData\\Local\\Temp/ipykernel_2340/1937036388.py\u001b[0m in \u001b[0;36m<module>\u001b[1;34m\u001b[0m\n\u001b[0;32m      3\u001b[0m \u001b[1;33m\u001b[0m\u001b[0m\n\u001b[0;32m      4\u001b[0m \u001b[1;33m\u001b[0m\u001b[0m\n\u001b[1;32m----> 5\u001b[1;33m \u001b[0mpscina\u001b[0m\u001b[1;33m(\u001b[0m\u001b[1;36m1\u001b[0m\u001b[1;33m,\u001b[0m \u001b[1;34m\"2\"\u001b[0m\u001b[1;33m)\u001b[0m\u001b[1;33m\u001b[0m\u001b[1;33m\u001b[0m\u001b[0m\n\u001b[0m",
      "\u001b[1;32mC:\\Users\\FATECS~1\\AppData\\Local\\Temp/ipykernel_2340/1937036388.py\u001b[0m in \u001b[0;36mpscina\u001b[1;34m(val_1, val_2)\u001b[0m\n\u001b[0;32m      1\u001b[0m \u001b[1;32mdef\u001b[0m \u001b[0mpscina\u001b[0m\u001b[1;33m(\u001b[0m\u001b[0mval_1\u001b[0m\u001b[1;33m,\u001b[0m \u001b[0mval_2\u001b[0m\u001b[1;33m)\u001b[0m\u001b[1;33m:\u001b[0m\u001b[1;33m\u001b[0m\u001b[1;33m\u001b[0m\u001b[0m\n\u001b[1;32m----> 2\u001b[1;33m     \u001b[1;32mreturn\u001b[0m \u001b[0mval_1\u001b[0m \u001b[1;33m+\u001b[0m \u001b[0mval_2\u001b[0m\u001b[1;33m\u001b[0m\u001b[1;33m\u001b[0m\u001b[0m\n\u001b[0m\u001b[0;32m      3\u001b[0m \u001b[1;33m\u001b[0m\u001b[0m\n\u001b[0;32m      4\u001b[0m \u001b[1;33m\u001b[0m\u001b[0m\n\u001b[0;32m      5\u001b[0m \u001b[0mpscina\u001b[0m\u001b[1;33m(\u001b[0m\u001b[1;36m1\u001b[0m\u001b[1;33m,\u001b[0m \u001b[1;34m\"2\"\u001b[0m\u001b[1;33m)\u001b[0m\u001b[1;33m\u001b[0m\u001b[1;33m\u001b[0m\u001b[0m\n",
      "\u001b[1;31mTypeError\u001b[0m: unsupported operand type(s) for +: 'int' and 'str'"
     ]
    }
   ],
   "source": [
    "def piscina(val_1, val_2):\n",
    "    return val_1 + val_2\n",
    "    \n",
    "\n",
    "piscina(1, \"2\")"
   ]
  },
  {
   "cell_type": "code",
   "execution_count": 29,
   "id": "ee4e2249",
   "metadata": {},
   "outputs": [
    {
     "data": {
      "text/plain": [
       "\"Operação não suportada: unsupported operand type(s) for +: 'int' and 'str'\""
      ]
     },
     "execution_count": 29,
     "metadata": {},
     "output_type": "execute_result"
    }
   ],
   "source": [
    "# piscina - função que permite usuários utilizarem a piscina\n",
    "def piscina(val_1, val_2):\n",
    "    try:\n",
    "        return val_1 + val_2\n",
    "    except Exception as err:\n",
    "        # usuário entrou na piscina\n",
    "        return f\"Operação não suportada: {err}\"\n",
    "\n",
    "piscina(1, \"2\")"
   ]
  },
  {
   "cell_type": "code",
   "execution_count": 40,
   "id": "28d21987",
   "metadata": {},
   "outputs": [
    {
     "name": "stdout",
     "output_type": "stream",
     "text": [
      "REALIZANDO EXAME\n"
     ]
    },
    {
     "ename": "TypeError",
     "evalue": "unsupported operand type(s) for +: 'int' and 'str'",
     "output_type": "error",
     "traceback": [
      "\u001b[1;31m---------------------------------------------------------------------------\u001b[0m",
      "\u001b[1;31mTypeError\u001b[0m                                 Traceback (most recent call last)",
      "\u001b[1;32mC:\\Users\\FATECS~1\\AppData\\Local\\Temp/ipykernel_2340/2964547374.py\u001b[0m in \u001b[0;36m<module>\u001b[1;34m\u001b[0m\n\u001b[0;32m     13\u001b[0m \u001b[1;33m\u001b[0m\u001b[0m\n\u001b[0;32m     14\u001b[0m \u001b[1;33m\u001b[0m\u001b[0m\n\u001b[1;32m---> 15\u001b[1;33m \u001b[0mpaciente\u001b[0m\u001b[1;33m(\u001b[0m\u001b[1;36m2\u001b[0m\u001b[1;33m)\u001b[0m\u001b[1;33m\u001b[0m\u001b[1;33m\u001b[0m\u001b[0m\n\u001b[0m",
      "\u001b[1;32mC:\\Users\\FATECS~1\\AppData\\Local\\Temp/ipykernel_2340/2964547374.py\u001b[0m in \u001b[0;36mmedico\u001b[1;34m(formulario)\u001b[0m\n\u001b[0;32m      3\u001b[0m     \u001b[1;32mdef\u001b[0m \u001b[0mmedico\u001b[0m\u001b[1;33m(\u001b[0m\u001b[0mformulario\u001b[0m\u001b[1;33m)\u001b[0m\u001b[1;33m:\u001b[0m  \u001b[1;31m# papeis do exame\u001b[0m\u001b[1;33m\u001b[0m\u001b[1;33m\u001b[0m\u001b[0m\n\u001b[0;32m      4\u001b[0m         \u001b[0mprint\u001b[0m\u001b[1;33m(\u001b[0m\u001b[1;34m\"REALIZANDO EXAME\"\u001b[0m\u001b[1;33m)\u001b[0m\u001b[1;33m\u001b[0m\u001b[1;33m\u001b[0m\u001b[0m\n\u001b[1;32m----> 5\u001b[1;33m         \u001b[0mpaciente\u001b[0m\u001b[1;33m(\u001b[0m\u001b[0mformulario\u001b[0m\u001b[1;33m)\u001b[0m\u001b[1;33m\u001b[0m\u001b[1;33m\u001b[0m\u001b[0m\n\u001b[0m\u001b[0;32m      6\u001b[0m         \u001b[0mprint\u001b[0m\u001b[1;33m(\u001b[0m\u001b[1;34m\"EXAME FINALIZADO\"\u001b[0m\u001b[1;33m)\u001b[0m\u001b[1;33m\u001b[0m\u001b[1;33m\u001b[0m\u001b[0m\n\u001b[0;32m      7\u001b[0m     \u001b[1;32mreturn\u001b[0m \u001b[0mmedico\u001b[0m\u001b[1;33m\u001b[0m\u001b[1;33m\u001b[0m\u001b[0m\n",
      "\u001b[1;32mC:\\Users\\FATECS~1\\AppData\\Local\\Temp/ipykernel_2340/2964547374.py\u001b[0m in \u001b[0;36mpaciente\u001b[1;34m(formulario_preenchido)\u001b[0m\n\u001b[0;32m     10\u001b[0m \u001b[1;33m@\u001b[0m\u001b[0mexame\u001b[0m\u001b[1;33m\u001b[0m\u001b[1;33m\u001b[0m\u001b[0m\n\u001b[0;32m     11\u001b[0m \u001b[1;32mdef\u001b[0m \u001b[0mpaciente\u001b[0m\u001b[1;33m(\u001b[0m\u001b[0mformulario_preenchido\u001b[0m\u001b[1;33m)\u001b[0m\u001b[1;33m:\u001b[0m\u001b[1;33m\u001b[0m\u001b[1;33m\u001b[0m\u001b[0m\n\u001b[1;32m---> 12\u001b[1;33m     \u001b[1;36m1\u001b[0m \u001b[1;33m+\u001b[0m \u001b[1;34m\"1\"\u001b[0m\u001b[1;33m\u001b[0m\u001b[1;33m\u001b[0m\u001b[0m\n\u001b[0m\u001b[0;32m     13\u001b[0m \u001b[1;33m\u001b[0m\u001b[0m\n\u001b[0;32m     14\u001b[0m \u001b[1;33m\u001b[0m\u001b[0m\n",
      "\u001b[1;31mTypeError\u001b[0m: unsupported operand type(s) for +: 'int' and 'str'"
     ]
    }
   ],
   "source": [
    "# exame - função que verifica se usuário está apto a nadar\n",
    "def exame(paciente):\n",
    "    def medico(formulario):  # papeis do exame\n",
    "        print(\"REALIZANDO EXAME\")\n",
    "        paciente(formulario)\n",
    "        print(\"EXAME FINALIZADO\")\n",
    "    return medico\n",
    "\n",
    "\n",
    "@exame\n",
    "def paciente(formulario_preenchido):\n",
    "    1 + \"1\"\n",
    "\n",
    "    \n",
    "paciente(2)"
   ]
  },
  {
   "cell_type": "markdown",
   "id": "65f60ef8",
   "metadata": {},
   "source": [
    "### Entendendo mais sobre funções"
   ]
  },
  {
   "cell_type": "markdown",
   "id": "109f3aaa",
   "metadata": {},
   "source": [
    "* Função com parâmetro"
   ]
  },
  {
   "cell_type": "code",
   "execution_count": 42,
   "id": "ac4e34b4",
   "metadata": {},
   "outputs": [],
   "source": [
    "def func(param):  # valor rígido\n",
    "    pass\n"
   ]
  },
  {
   "cell_type": "markdown",
   "id": "30b1238f",
   "metadata": {},
   "source": [
    "* Função sem parâmetro"
   ]
  },
  {
   "cell_type": "code",
   "execution_count": 43,
   "id": "cb6555a5",
   "metadata": {},
   "outputs": [],
   "source": [
    "def func():  # sem valor\n",
    "    pass"
   ]
  },
  {
   "cell_type": "markdown",
   "id": "53b92f2c",
   "metadata": {},
   "source": [
    "* Função dinâmica"
   ]
  },
  {
   "cell_type": "code",
   "execution_count": 48,
   "id": "45c52f7c",
   "metadata": {},
   "outputs": [
    {
     "name": "stdout",
     "output_type": "stream",
     "text": [
      "4\n",
      "1\n",
      "3\n",
      "4\n",
      "5\n",
      "56\n",
      "texto\n"
     ]
    }
   ],
   "source": [
    "def func(*args):  # desempacotador\n",
    "    for valor in args:\n",
    "        print(valor)\n",
    "    \n",
    "\n",
    "        \n",
    "func(4, 1, 3, 4, 5, 56, \"texto\")\n"
   ]
  },
  {
   "cell_type": "code",
   "execution_count": 69,
   "id": "973f4d71",
   "metadata": {},
   "outputs": [
    {
     "name": "stdout",
     "output_type": "stream",
     "text": [
      "Essa é a chave: nome\n",
      "E esse é o valor cavalo\n"
     ]
    }
   ],
   "source": [
    "def func2(**kwargs):\n",
    "    for chave, valor in kwargs.items():\n",
    "        print(f\"Essa é a chave: {chave}\")\n",
    "        print(f\"E esse é o valor {valor}\")\n",
    "\n",
    "func2(nome=\"cavalo\")"
   ]
  },
  {
   "cell_type": "code",
   "execution_count": null,
   "id": "9bdc283e",
   "metadata": {},
   "outputs": [],
   "source": []
  }
 ],
 "metadata": {
  "kernelspec": {
   "display_name": "Python 3 (ipykernel)",
   "language": "python",
   "name": "python3"
  },
  "language_info": {
   "codemirror_mode": {
    "name": "ipython",
    "version": 3
   },
   "file_extension": ".py",
   "mimetype": "text/x-python",
   "name": "python",
   "nbconvert_exporter": "python",
   "pygments_lexer": "ipython3",
   "version": "3.9.7"
  }
 },
 "nbformat": 4,
 "nbformat_minor": 5
}
